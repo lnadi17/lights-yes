{
 "cells": [
  {
   "cell_type": "code",
   "execution_count": 1,
   "metadata": {
    "id": "CVet1K6ptU26"
   },
   "outputs": [],
   "source": [
    "# import all necessary libraries\n",
    "import numpy as np\n",
    "import matplotlib.pyplot as plt\n",
    "import matplotlib.colors as colors\n",
    "import queue\n",
    "from collections import Counter"
   ]
  },
  {
   "cell_type": "code",
   "execution_count": 2,
   "metadata": {
    "id": "kShzJDvUtSye"
   },
   "outputs": [],
   "source": [
    "class Gameboard:\n",
    "    def __init__(self, shape):\n",
    "        self.nrows, self.ncols = shape, shape\n",
    "        self.col_labels, self.row_labels = [i for i in range(shape)], [i for i in range(shape)]\n",
    "        # create board matrix\n",
    "        self.board = self.fast_random_bool([self.nrows, self.ncols])\n",
    "\n",
    "        # create figure and axes\n",
    "        self.fig, self.ax = plt.subplots()\n",
    "\n",
    "        # show all ticks\n",
    "        self.ax.set_xticks(np.arange(self.ncols))\n",
    "        self.ax.set_yticks(np.arange(self.nrows))\n",
    "\n",
    "        # set custom labels\n",
    "        self.ax.set_xticklabels(self.col_labels)\n",
    "        self.ax.set_yticklabels(self.row_labels)\n",
    "        \n",
    "        # set up minor ticks\n",
    "        self.ax.minorticks_on()\n",
    "        self.ax.set_xticks(np.arange(self.ncols) + 0.5, minor=True)\n",
    "        self.ax.set_yticks(np.arange(self.nrows) + 0.5, minor=True)\n",
    "\n",
    "        # turn off the display of all ticks\n",
    "        self.ax.tick_params(which='both', top=False, left=False, right=False, bottom=False)\n",
    "\n",
    "        # show grid on minor ticks\n",
    "        self.ax.grid(which='minor', linestyle='-', color='black')\n",
    "\n",
    "        # set bounds\n",
    "        self.ax.set_xbound(-0.5, 9.5)\n",
    "        self.ax.set_ybound(-0.5, 9.5)\n",
    "        \n",
    "        # do not show figure during initialization\n",
    "        plt.close(self.fig)\n",
    "        \n",
    "        # initialize counter\n",
    "        self.bulb_count = np.sum(self.board)\n",
    "    \n",
    "    # method from stackoverflow\n",
    "    def fast_random_bool(self, shape):\n",
    "        n = np.prod(shape)\n",
    "        nb = -(-n // 8)  # ceiling division\n",
    "        b = np.frombuffer(np.random.bytes(nb), np.uint8, nb)\n",
    "        return np.unpackbits(b)[:n].reshape(shape).view(bool)\n",
    "\n",
    "    # triggers a single bulb\n",
    "    def trigger_bulb(self, x, y):\n",
    "        self.board[y, x] = not self.board[y, x]\n",
    "\n",
    "    # makes a single move which triggers multiple bulbs\n",
    "    def play(self, x, y):\n",
    "        self.trigger_bulb(x, y)\n",
    "        for loc in self.neighbours(x, y):\n",
    "            self.trigger_bulb(loc[0], loc[1])\n",
    "        self.bulb_count = np.sum(self.board)\n",
    "\n",
    "    # takes an array of moves and plays them\n",
    "    def play_multiple(self, array):\n",
    "        for move in array:\n",
    "            self.play(move[0], move[1])\n",
    "\n",
    "    # restarts game\n",
    "    def restart(self):\n",
    "        self.board = self.fast_random_bool([self.nrows, self.ncols])\n",
    "        self.bulb_count = np.sum(self.board)\n",
    "\n",
    "    def set_state(self, matrix):\n",
    "        self.board = np.flip(matrix, 0)\n",
    "        self.bulb_count = np.sum(self.board)\n",
    "        \n",
    "    def get_state(self):\n",
    "        return self.board\n",
    "        \n",
    "    # returns array of neighbouring locations of passed location (diagonal direction doesn't count)\n",
    "    def neighbours(self, x, y):\n",
    "        result = []\n",
    "\n",
    "        if self.in_range(x, y - 1):\n",
    "            result.append((x, y - 1))\n",
    "\n",
    "        if self.in_range(x, y + 1):\n",
    "            result.append((x, y + 1))\n",
    "\n",
    "        if self.in_range(x - 1, y):\n",
    "            result.append((x - 1, y))\n",
    "\n",
    "        if self.in_range(x + 1, y):\n",
    "            result.append((x + 1, y))\n",
    "\n",
    "        return result\n",
    "    \n",
    "    # returns True if passed location is within bounds\n",
    "    def in_range(self, x, y):\n",
    "        if y >= 0 and y < self.nrows and x >= 0 and x < self.ncols:\n",
    "            return True\n",
    "        return False\n",
    "        \n",
    "    # returns True if all bulbs are on\n",
    "    def is_game_over(self):\n",
    "        if self.bulb_count == self.nrows * self.ncols:\n",
    "            return True\n",
    "        return False\n",
    "    \n",
    "    # returns number of bulbs currently on\n",
    "    def get_bulb_count(self):\n",
    "        return self.bulb_count\n",
    "    \n",
    "    # returns matplotlib figure\n",
    "    def get_figure(self, figsize=None):\n",
    "        self.update()\n",
    "        if figsize is not None:\n",
    "            self.fig.set_size_inches(figsize, figsize)\n",
    "        return self.fig\n",
    "    \n",
    "    # returns matplotlib axes\n",
    "    def get_axes(self):\n",
    "        self.update()\n",
    "        return self.ax\n",
    "    \n",
    "    # applies changes made to board\n",
    "    def update(self):\n",
    "        self.ax.imshow(self.board, origin='lower', vmin=0, vmax=1)\n",
    "\n",
    "    # make a queue and do bfs for solution (this guarantees the least amount of moves but takes a long time)\n",
    "    def solve_bfs(self):\n",
    "        # method number 1\n",
    "        q = queue.Queue()\n",
    "\n",
    "        visited = set()\n",
    "        visited.add(tuple(board.get_state().flat))\n",
    "        for i in range(self.nrows):\n",
    "            for j in range(self.ncols):\n",
    "                # put the first elements in queue\n",
    "                q.put([(i, j)])\n",
    "\n",
    "        while True:\n",
    "            # make a recorded set of moves\n",
    "            moves = q.get()\n",
    "            if q.empty():\n",
    "                # print(\"answer not found\")\n",
    "                return None\n",
    "            board.play_multiple(moves)\n",
    "            # check for win\n",
    "            if board.is_game_over():\n",
    "                board.play_multiple(moves)\n",
    "                # print(\"answer: \", moves)\n",
    "                return moves\n",
    "            # enqueue a new set of moves if this state hasn't been visited yet\n",
    "            if tuple(board.get_state().flat) not in visited:\n",
    "                for i in range(self.nrows):\n",
    "                    for j in range(self.ncols):\n",
    "                        q.put(moves + [(i, j)])\n",
    "            # add the current move to the visited set\n",
    "            visited.add(tuple(board.get_state().flat))\n",
    "            # revert play\n",
    "            board.play_multiple(moves)"
   ]
  },
  {
   "cell_type": "code",
   "execution_count": 3,
   "metadata": {
    "id": "kqXYgla7tsAC"
   },
   "outputs": [
    {
     "data": {
      "image/png": "[encoded data removed]",
      "text/plain": [
       "<Figure size 640x480 with 1 Axes>"
      ]
     },
     "execution_count": 3,
     "metadata": {},
     "output_type": "execute_result"
    }
   ],
   "source": [
    "board = Gameboard(2)\n",
    "board.get_figure()"
   ]
  },
  {
   "cell_type": "code",
   "execution_count": 4,
   "metadata": {
    "colab": {
     "base_uri": "https://localhost:8080/",
     "height": 265
    },
    "id": "HgUS-p-r7rKA",
    "outputId": "1469227c-9a5d-43d9-b8be-203bb08b7ea1"
   },
   "outputs": [
    {
     "data": {
      "image/png": "[encoded data removed]",
      "text/plain": [
       "<Figure size 640x480 with 1 Axes>"
      ]
     },
     "execution_count": 4,
     "metadata": {},
     "output_type": "execute_result"
    }
   ],
   "source": [
    "answer = board.solve_bfs()\n",
    "board.play_multiple(answer)\n",
    "board.get_figure()"
   ]
  },
  {
   "cell_type": "code",
   "execution_count": 5,
   "metadata": {
    "id": "B6WJrpLqvk2h"
   },
   "outputs": [],
   "source": [
    "# plots the lengths of the moves from the array of moves\n",
    "def plot_length_dist(moves):\n",
    "    lengths = []\n",
    "    for move in moves:\n",
    "        if move is None:\n",
    "            lengths.append(0)\n",
    "        else:\n",
    "            lengths.append(len(move))\n",
    "    plt.hist(lengths, np.arange(-0.5, np.max(lengths) + 2, 1), edgecolor='black')\n",
    "    plt.show()"
   ]
  },
  {
   "cell_type": "code",
   "execution_count": 6,
   "metadata": {
    "colab": {
     "base_uri": "https://localhost:8080/",
     "height": 265
    },
    "id": "Y-Miq9OG9lcF",
    "outputId": "ddca6119-a134-4428-a677-63a60dd5c012"
   },
   "outputs": [
    {
     "data": {
      "image/png": "[encoded data removed]",
      "text/plain": [
       "<Figure size 640x480 with 1 Axes>"
      ]
     },
     "metadata": {},
     "output_type": "display_data"
    }
   ],
   "source": [
    "moves = []\n",
    "for _ in range(100):\n",
    "    board.restart()\n",
    "    moves.append(board.solve_bfs())\n",
    "plot_length_dist(moves)"
   ]
  },
  {
   "cell_type": "code",
   "execution_count": 7,
   "metadata": {
    "id": "srceY6Fp1DW7"
   },
   "outputs": [],
   "source": [
    "# board.set_state(np.array([[False, True, False],\n",
    "#                           [True, False, True],\n",
    "#                           [False, False, False]]))"
   ]
  },
  {
   "cell_type": "code",
   "execution_count": 8,
   "metadata": {
    "id": "FTXV6OpRtron"
   },
   "outputs": [],
   "source": [
    "# for 2x2 matrix the equation is:\n",
    "# b1 + x1 + x2 + x3 = 1\n",
    "# b2 + x1 + x2 + x4 = 1\n",
    "# b3 + x1 + x3 + x4 = 1\n",
    "# b4 + x2 + x3 + x4 = 1\n",
    "# [1 1 1 0]\n",
    "# [1 1 0 1]\n",
    "# [1 0 1 1]\n",
    "# [0 1 1 1]\n",
    "# *\n",
    "# [x1 x2 x3 x4]\n",
    "# =\n",
    "# [1-b1 1-b2 1-b3 1-b4]"
   ]
  },
  {
   "cell_type": "code",
   "execution_count": 9,
   "metadata": {
    "id": "WmpIwKc8iHax"
   },
   "outputs": [],
   "source": [
    "def get_moves_matrix(shape):\n",
    "    mat = np.zeros((shape[0]**2, shape[1]**2))\n",
    "    for i in range(shape[0]):\n",
    "        for j in range(shape[1]):\n",
    "            for n in board.neighbours(i, j) + [(i, j)]:\n",
    "                mat[i * shape[0] + j, n[0] * shape[0] + n[1]] += 1\n",
    "    return mat\n",
    "\n",
    "def get_diff_matrix(shape):\n",
    "    mat = np.ones(np.prod(shape))\n",
    "    for i in range(shape[0]):\n",
    "        for j in range(shape[1]):\n",
    "            mat[i * shape[0] + j] -= board.get_state()[i, j]\n",
    "    return mat\n",
    "\n",
    "def get_linalg_moves(x):\n",
    "    moves = []\n",
    "    for i in range(len(x)):\n",
    "        if x[i] == 1:\n",
    "            moves.append((i % int(np.sqrt(len(x))), i // int(np.sqrt(len(x)))))\n",
    "    return moves"
   ]
  },
  {
   "cell_type": "code",
   "execution_count": 11,
   "metadata": {
    "id": "79nbIGqNit9I"
   },
   "outputs": [
    {
     "data": {
      "image/png": "[encoded data removed]",
      "text/plain": [
       "<Figure size 640x480 with 1 Axes>"
      ]
     },
     "execution_count": 11,
     "metadata": {},
     "output_type": "execute_result"
    }
   ],
   "source": [
    "board = Gameboard(3)\n",
    "board.get_figure()"
   ]
  },
  {
   "cell_type": "code",
   "execution_count": 12,
   "metadata": {
    "colab": {
     "base_uri": "https://localhost:8080/"
    },
    "id": "7T_dUa9I3Cqb",
    "outputId": "de355ad4-ab6f-4c71-b516-329870ec48b4"
   },
   "outputs": [
    {
     "data": {
      "text/plain": [
       "[(0, 1), (1, 1), (2, 1), (0, 2), (1, 2)]"
      ]
     },
     "execution_count": 12,
     "metadata": {},
     "output_type": "execute_result"
    }
   ],
   "source": [
    "board.restart()\n",
    "a = get_moves_matrix((3, 3))\n",
    "b = get_diff_matrix((3, 3))\n",
    "x = np.rint(np.linalg.solve(a, b) * np.linalg.det(a)).astype('int') % 2\n",
    "get_linalg_moves(x)"
   ]
  },
  {
   "cell_type": "code",
   "execution_count": 13,
   "metadata": {
    "colab": {
     "base_uri": "https://localhost:8080/",
     "height": 265
    },
    "id": "8hSDi7YGphfH",
    "outputId": "8f96f863-577c-4227-a8f0-bf69aac42310"
   },
   "outputs": [
    {
     "data": {
      "image/png": "[encoded data removed]",
      "text/plain": [
       "<Figure size 640x480 with 1 Axes>"
      ]
     },
     "execution_count": 13,
     "metadata": {},
     "output_type": "execute_result"
    }
   ],
   "source": [
    "board.play_multiple(get_linalg_moves(x))\n",
    "board.get_figure()"
   ]
  },
  {
   "cell_type": "code",
   "execution_count": 14,
   "metadata": {
    "id": "9XD8vlbquLVX"
   },
   "outputs": [],
   "source": [
    "def rref(A, B=None):\n",
    "    i, piv = 0, 0\n",
    "    while i + piv < len(A):\n",
    "        if A[i, i + piv] == 1:\n",
    "            for k in range(len(A)):\n",
    "                if k == i:\n",
    "                    continue\n",
    "                if A[k, i + piv] == 1:\n",
    "                    A[k, :] += A[i, :]\n",
    "                    A[k, :] %= 2\n",
    "                    if B is not None:\n",
    "                        B[k] = (B[k] + B[i]) % 2\n",
    "        else:\n",
    "            row_changed = False\n",
    "            for k in range(len(A) - i - 1):\n",
    "                if A[i + k + 1, i + piv] == 1:\n",
    "                    temp = A[i, :].copy()\n",
    "                    A[i, :] = A[i + k + 1, :]\n",
    "                    A[i + k + 1, :] = temp\n",
    "                    if B is not None:\n",
    "                        temp = B[i]\n",
    "                        B[i] = B[i + k + 1]\n",
    "                        B[i + k + 1] = temp\n",
    "                    row_changed = True\n",
    "                    break\n",
    "            if not row_changed:\n",
    "                piv += 1\n",
    "            i -= 1\n",
    "        i += 1"
   ]
  },
  {
   "cell_type": "code",
   "execution_count": 15,
   "metadata": {
    "id": "fLM9D_U_Vq4k"
   },
   "outputs": [],
   "source": [
    "# A, B must be in rref, must be used only when unique solution exists\n",
    "def exact(A, B):\n",
    "    result = [0] * len(A)\n",
    "    for row_index in range(len(A)):\n",
    "        one_index = np.where(A[row_index] == 1)[0][0]\n",
    "        result[one_index] = B[row_index]\n",
    "    return result"
   ]
  },
  {
   "cell_type": "code",
   "execution_count": 16,
   "metadata": {
    "id": "0_-cMcA8ys-W"
   },
   "outputs": [],
   "source": [
    "def null_space(A):\n",
    "    results = []\n",
    "    i, piv, col = 0, 0, 0\n",
    "    to_fix = []\n",
    "    while col < len(A):\n",
    "        if A[i, i + piv] == 1:\n",
    "            i += 1\n",
    "        else:\n",
    "            to_fix.append(col)\n",
    "            piv += 1\n",
    "        col += 1\n",
    "    no_fix = np.delete(np.arange(0, len(A), 1), to_fix)\n",
    "    for col_num in range(len(to_fix)):\n",
    "        result = np.array([0] * len(A))\n",
    "        fixed = to_fix[col_num]\n",
    "        result[fixed] = 1\n",
    "        for i in range(len(A)):\n",
    "            if A[i, fixed] == 1:\n",
    "                result[no_fix[i]] = (result[no_fix[i]] + 1) % 2\n",
    "        results.append(result)\n",
    "    return results"
   ]
  },
  {
   "cell_type": "code",
   "execution_count": 17,
   "metadata": {
    "id": "X09A1TLtFLMJ"
   },
   "outputs": [],
   "source": [
    "def particular(A, B):\n",
    "    i, piv, col = 0, 0, 0\n",
    "    to_fix = []\n",
    "    while col < len(A):\n",
    "        if A[i, i + piv] == 1:\n",
    "            i += 1\n",
    "        else:\n",
    "            to_fix.append(col)\n",
    "            piv += 1\n",
    "        col += 1\n",
    "    no_fix = np.delete(np.arange(0, len(A), 1), to_fix)\n",
    "    \n",
    "    if 1 in B[-len(to_fix):]:\n",
    "#         print('no solution, sorry')\n",
    "        return None\n",
    "\n",
    "    result = [0] * len(A)\n",
    "    for i in range(len(no_fix)):\n",
    "        result[no_fix[i]] = B[i]\n",
    "    fixed = to_fix[0]\n",
    "    result[fixed] = 1\n",
    "    for i in range(len(A)):\n",
    "        if A[i, fixed] == 1:\n",
    "            result[no_fix[i]] = (result[no_fix[i]] + 1) % 2\n",
    "    return result"
   ]
  },
  {
   "cell_type": "code",
   "execution_count": 18,
   "metadata": {
    "id": "0TpZPywUFgN6"
   },
   "outputs": [],
   "source": [
    "def powerset(seq):\n",
    "    if len(seq) <= 1:\n",
    "        yield seq\n",
    "        yield []\n",
    "    else:\n",
    "        for item in powerset(seq[1:]):\n",
    "            yield [seq[0]] + item\n",
    "            yield item"
   ]
  },
  {
   "cell_type": "code",
   "execution_count": 19,
   "metadata": {
    "id": "R-AsCWcYCmlv"
   },
   "outputs": [],
   "source": [
    "# can solve for any board size, returns array of moves\n",
    "def solve_linalg(A, B):\n",
    "    rref(A, B)\n",
    "    null = null_space(A)\n",
    "    if null == []:\n",
    "        return [get_linalg_moves(exact(A, B))]\n",
    "    x = particular(A, B)\n",
    "    if x is None:\n",
    "        return None\n",
    "    else:\n",
    "        sols = [(sum(s) + x) % 2 for s in powerset(null) if s != []]\n",
    "        sols += [x]\n",
    "    return [get_linalg_moves(sol) for sol in sols]"
   ]
  },
  {
   "cell_type": "code",
   "execution_count": 32,
   "metadata": {
    "id": "iPfqxT0yaSn3"
   },
   "outputs": [
    {
     "data": {
      "image/png": "[encoded data removed]",
      "text/plain": [
       "<Figure size 500x500 with 1 Axes>"
      ]
     },
     "execution_count": 32,
     "metadata": {},
     "output_type": "execute_result"
    }
   ],
   "source": [
    "board = Gameboard(5)\n",
    "board.restart()\n",
    "board.get_figure(5)"
   ]
  },
  {
   "cell_type": "code",
   "execution_count": 33,
   "metadata": {
    "colab": {
     "base_uri": "https://localhost:8080/"
    },
    "id": "edEZSsZAXUN3",
    "outputId": "326f155c-8ea3-4d22-bc55-8608255940c7"
   },
   "outputs": [
    {
     "name": "stdout",
     "output_type": "stream",
     "text": [
      "CPU times: user 2.56 ms, sys: 447 µs, total: 3.01 ms\n",
      "Wall time: 1.22 ms\n"
     ]
    }
   ],
   "source": [
    "%%time\n",
    "A = get_moves_matrix((5, 5))\n",
    "B = get_diff_matrix((5, 5))\n",
    "sol = solve_linalg(A, B)"
   ]
  },
  {
   "cell_type": "code",
   "execution_count": 34,
   "metadata": {
    "colab": {
     "base_uri": "https://localhost:8080/",
     "height": 320
    },
    "id": "OW8SD8dqIn6_",
    "outputId": "185ddc17-e612-4edf-c96a-44b3deb303b2"
   },
   "outputs": [
    {
     "data": {
      "image/png": "[encoded data removed]",
      "text/plain": [
       "<Figure size 500x500 with 1 Axes>"
      ]
     },
     "execution_count": 34,
     "metadata": {},
     "output_type": "execute_result"
    }
   ],
   "source": [
    "board.play_multiple(sol[0])\n",
    "board.get_figure()"
   ]
  },
  {
   "cell_type": "code",
   "execution_count": 35,
   "metadata": {
    "colab": {
     "base_uri": "https://localhost:8080/"
    },
    "id": "-KelFHwtLS5s",
    "outputId": "020816cf-ae01-44a9-cbc3-f27a1abd2ed3"
   },
   "outputs": [
    {
     "name": "stdout",
     "output_type": "stream",
     "text": [
      "solved\n",
      "solved\n",
      "solved\n",
      "solved\n"
     ]
    }
   ],
   "source": [
    "board.play_multiple(sol[0])\n",
    "for s in sol:\n",
    "    board.play_multiple(s)\n",
    "    if board.is_game_over():\n",
    "        print(\"solved\")\n",
    "    board.play_multiple(s)"
   ]
  },
  {
   "cell_type": "code",
   "execution_count": 36,
   "metadata": {
    "id": "0POwuGaBS-Xs"
   },
   "outputs": [],
   "source": [
    "# let's find out what board sizes are solvable\n",
    "solvable = {}\n",
    "tolerance = 1e-10\n",
    "for size in range(2, 8):\n",
    "    board = Gameboard(size)\n",
    "    a = get_moves_matrix((size, size))\n",
    "    solvable[size] = abs(np.linalg.det(a)) > tolerance"
   ]
  },
  {
   "cell_type": "code",
   "execution_count": 37,
   "metadata": {
    "colab": {
     "base_uri": "https://localhost:8080/"
    },
    "id": "EhD1h-7ic1uO",
    "outputId": "d27e25e3-5432-4b8d-b540-b8eb4ef8c9f0"
   },
   "outputs": [
    {
     "name": "stdout",
     "output_type": "stream",
     "text": [
      "4x4 not always solvable\n",
      "5x5 not always solvable\n"
     ]
    }
   ],
   "source": [
    "for size in solvable:\n",
    "    if not solvable[size]:\n",
    "        print(str(size) + \"x\" + str(size) + \" not always solvable\")"
   ]
  },
  {
   "cell_type": "code",
   "execution_count": 38,
   "metadata": {
    "id": "SR0ugi-Gwpqn"
   },
   "outputs": [],
   "source": [
    "def rref_general(A, B):\n",
    "    i, piv = 0, 0\n",
    "    while i + piv < len(A):\n",
    "        if A[i, i + piv] == 1:\n",
    "            for k in range(len(A)):\n",
    "                if k == i:\n",
    "                    continue\n",
    "                if A[k, i + piv] == 1:\n",
    "                    A[k, :] += A[i, :]\n",
    "                    A[k, :] %= 2\n",
    "                    B[k] = B[k] + B[i]\n",
    "        else:\n",
    "            row_changed = False\n",
    "            for k in range(len(A) - i - 1):\n",
    "                if A[i + k + 1, i + piv] == 1:\n",
    "                    temp = A[i, :].copy()\n",
    "                    A[i, :] = A[i + k + 1, :]\n",
    "                    A[i + k + 1, :] = temp\n",
    "                    temp = B[i]\n",
    "                    B[i] = B[i + k + 1]\n",
    "                    B[i + k + 1] = temp\n",
    "                    row_changed = True\n",
    "                    break\n",
    "            if not row_changed:\n",
    "                piv += 1\n",
    "            i -= 1\n",
    "        i += 1"
   ]
  },
  {
   "cell_type": "code",
   "execution_count": 39,
   "metadata": {
    "id": "lgNoe6bBZG9I"
   },
   "outputs": [],
   "source": [
    "# find out when is the random 5x5 board solvable"
   ]
  },
  {
   "cell_type": "code",
   "execution_count": 40,
   "metadata": {
    "id": "rMlvu26pzAt_"
   },
   "outputs": [],
   "source": [
    "board = Gameboard(5)"
   ]
  },
  {
   "cell_type": "code",
   "execution_count": 41,
   "metadata": {
    "colab": {
     "base_uri": "https://localhost:8080/"
    },
    "id": "MU-X5FpNxqRE",
    "outputId": "53a5a3c6-824a-4f2a-ba39-e71ddaf11d0e"
   },
   "outputs": [
    {
     "name": "stdout",
     "output_type": "stream",
     "text": [
      "[[0], [1], [2], [3], [4], [5], [6], [7], [8], [9], [10], [11], [12], [13], [14], [15], [16], [17], [18], [19], [20], [21], [22], [23], [24]]\n"
     ]
    }
   ],
   "source": [
    "B_general = []\n",
    "for i in range(25):\n",
    "    B_general.append([i])\n",
    "print(B_general)\n",
    "board.restart()\n",
    "A = get_moves_matrix((5, 5))\n",
    "rref_general(A, B_general)"
   ]
  },
  {
   "cell_type": "code",
   "execution_count": 42,
   "metadata": {
    "colab": {
     "base_uri": "https://localhost:8080/"
    },
    "id": "3L7CtOkkyTbb",
    "outputId": "9fc44349-cc11-4cce-c693-bc3803379075"
   },
   "outputs": [
    {
     "data": {
      "text/plain": [
       "[[1, 0, 1, 0, 1, 1, 0, 1, 0, 1, 0, 0, 0, 0, 0, 1, 0, 1, 0, 1, 1, 0, 1, 0, 1],\n",
       " [0, 1, 1, 1, 0, 1, 0, 1, 0, 1, 1, 1, 0, 1, 1, 1, 0, 1, 0, 1, 0, 1, 1, 1, 0]]"
      ]
     },
     "execution_count": 42,
     "metadata": {},
     "output_type": "execute_result"
    }
   ],
   "source": [
    "promises = []\n",
    "for i in range(2):\n",
    "    counter = Counter(B_general[-1 - i])\n",
    "    promise = [0] * 25\n",
    "    for c in counter:\n",
    "        promise[c] = (counter[c] % 2)\n",
    "    promises.append(promise)\n",
    "promises"
   ]
  },
  {
   "cell_type": "code",
   "execution_count": 43,
   "metadata": {
    "colab": {
     "base_uri": "https://localhost:8080/"
    },
    "id": "cUYo5gGxUQC2",
    "outputId": "d6b48599-daa2-4bd5-8fdd-1c708a1dd5b5"
   },
   "outputs": [
    {
     "name": "stdout",
     "output_type": "stream",
     "text": [
      "correct guesses: 1000/1000\n"
     ]
    }
   ],
   "source": [
    "correct_guess = 0\n",
    "for i in range(1000):\n",
    "    board.restart()\n",
    "    state = board.get_state()\n",
    "    state_flat = state.flatten()\n",
    "    promises_kept = 0\n",
    "    solved_guess = False\n",
    "    for promise in promises:\n",
    "        p_sum = 0\n",
    "        for i in range(len(state_flat)):\n",
    "            if state_flat[i] and promise[i] == 1:\n",
    "                p_sum += 1\n",
    "        if p_sum % 2 == 0 and sum(promise) % 2 == 0:\n",
    "            promises_kept += 1\n",
    "        if p_sum % 2 == 1 and sum(promise) % 2 == 1:\n",
    "            promises_kept += 1\n",
    "    if promises_kept == 2:\n",
    "        solved_guess = True\n",
    "    A = get_moves_matrix((5, 5))\n",
    "    B = get_diff_matrix((5, 5))\n",
    "    rref(A, B)\n",
    "    solved_real = particular(A, B) is not None\n",
    "    if (solved_real and not solved_guess) or (not solved_real and solved_guess):\n",
    "        print(\"oops\")\n",
    "    else:\n",
    "        correct_guess += 1\n",
    "print('correct guesses: {}/1000'.format(str(correct_guess)))"
   ]
  },
  {
   "cell_type": "code",
   "execution_count": 44,
   "metadata": {
    "id": "ANCG2viOlvx5"
   },
   "outputs": [
    {
     "data": {
      "image/png": "[encoded data removed]",
      "text/plain": [
       "<Figure size 640x480 with 1 Axes>"
      ]
     },
     "execution_count": 44,
     "metadata": {},
     "output_type": "execute_result"
    }
   ],
   "source": [
    "# do the same for 4x4 board\n",
    "board = Gameboard(4)\n",
    "board.get_figure()"
   ]
  },
  {
   "cell_type": "code",
   "execution_count": 45,
   "metadata": {
    "colab": {
     "base_uri": "https://localhost:8080/"
    },
    "id": "cFOWGzuAj7E9",
    "outputId": "8db5597f-2320-48cc-c4b4-1d7a9decae0c"
   },
   "outputs": [
    {
     "name": "stdout",
     "output_type": "stream",
     "text": [
      "[[1, 1, 1, 0, 0, 1, 0, 1, 0, 0, 1, 1, 0, 0, 0, 1], [1, 0, 1, 1, 1, 0, 0, 0, 0, 1, 1, 1, 0, 0, 1, 0], [1, 1, 0, 1, 0, 0, 0, 1, 1, 1, 1, 0, 0, 1, 0, 0], [0, 1, 1, 1, 1, 0, 1, 0, 1, 1, 0, 0, 1, 0, 0, 0]]\n",
      "correct guesses: 1000/1000\n"
     ]
    }
   ],
   "source": [
    "B_general = []\n",
    "for i in range(16):\n",
    "    B_general.append([i])\n",
    "board.restart()\n",
    "A = get_moves_matrix((4, 4))\n",
    "rref_general(A, B_general)\n",
    "promises = []\n",
    "\n",
    "for i in range(4):\n",
    "    counter = Counter(B_general[-1 - i])\n",
    "    promise = [0] * 16\n",
    "    for c in counter:\n",
    "        promise[c] = (counter[c] % 2)\n",
    "    promises.append(promise)\n",
    "print(promises)\n",
    "\n",
    "correct_guess = 0\n",
    "for i in range(1000):\n",
    "    board.restart()\n",
    "    state = board.get_state()\n",
    "    state_flat = state.flatten()\n",
    "    promises_kept = 0\n",
    "    solved_guess = False\n",
    "    for promise in promises:\n",
    "        p_sum = 0\n",
    "        for i in range(len(state_flat)):\n",
    "            if state_flat[i] and promise[i] == 1:\n",
    "                p_sum += 1\n",
    "        if p_sum % 2 == 0 and sum(promise) % 2 == 0:\n",
    "            promises_kept += 1\n",
    "        if p_sum % 2 == 1 and sum(promise) % 2 == 1:\n",
    "            promises_kept += 1\n",
    "    if promises_kept == 4:\n",
    "        solved_guess = True\n",
    "    A = get_moves_matrix((4, 4))\n",
    "    B = get_diff_matrix((4, 4))\n",
    "    rref(A, B)\n",
    "    solved_real = particular(A, B) is not None\n",
    "    if (solved_real and not solved_guess) or (not solved_real and solved_guess):\n",
    "        print(\"oops\")\n",
    "    else:\n",
    "        correct_guess += 1\n",
    "print('correct guesses: {}/1000'.format(str(correct_guess)))"
   ]
  }
 ],
 "metadata": {
  "colab": {
   "collapsed_sections": [],
   "name": "bulbs.ipynb",
   "provenance": []
  },
  "kernelspec": {
   "display_name": "Python 3 (ipykernel)",
   "language": "python",
   "name": "python3"
  },
  "language_info": {
   "codemirror_mode": {
    "name": "ipython",
    "version": 3
   },
   "file_extension": ".py",
   "mimetype": "text/x-python",
   "name": "python",
   "nbconvert_exporter": "python",
   "pygments_lexer": "ipython3",
   "version": "3.11.1"
  }
 },
 "nbformat": 4,
 "nbformat_minor": 1
}
