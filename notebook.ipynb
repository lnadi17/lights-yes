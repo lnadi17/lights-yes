{
  "nbformat": 4,
  "nbformat_minor": 0,
  "metadata": {
    "colab": {
      "name": "bulbs.ipynb",
      "provenance": [],
      "collapsed_sections": []
    },
    "kernelspec": {
      "name": "python3",
      "display_name": "Python 3"
    }
  },
  "cells": [
    {
      "cell_type": "code",
      "metadata": {
        "id": "CVet1K6ptU26"
      },
      "source": [
        "# import all necessary libraries\n",
        "import numpy as np\n",
        "import matplotlib.pyplot as plt\n",
        "import matplotlib.colors as colors\n",
        "import queue\n",
        "import itertools"
      ],
      "execution_count": 390,
      "outputs": []
    },
    {
      "cell_type": "code",
      "metadata": {
        "id": "kShzJDvUtSye"
      },
      "source": [
        "class Gameboard:\n",
        "    def __init__(self, shape):\n",
        "        self.nrows, self.ncols = shape, shape\n",
        "        self.col_labels, self.row_labels = [i for i in range(shape)], [i for i in range(shape)]\n",
        "        # create board matrix\n",
        "        self.board = self.fast_random_bool([self.nrows, self.ncols])\n",
        "\n",
        "        # create figure and axes\n",
        "        self.fig, self.ax = plt.subplots()\n",
        "\n",
        "        # show all ticks\n",
        "        self.ax.set_xticks(np.arange(self.ncols))\n",
        "        self.ax.set_yticks(np.arange(self.nrows))\n",
        "\n",
        "        # set custom labels\n",
        "        self.ax.set_xticklabels(self.col_labels)\n",
        "        self.ax.set_yticklabels(self.row_labels)\n",
        "        \n",
        "        # set up minor ticks\n",
        "        self.ax.minorticks_on()\n",
        "        self.ax.set_xticks(np.arange(self.ncols) + 0.5, minor=True)\n",
        "        self.ax.set_yticks(np.arange(self.nrows) + 0.5, minor=True)\n",
        "\n",
        "        # turn off the display of all ticks\n",
        "        self.ax.tick_params(which='both', top=False, left=False, right=False, bottom=False)\n",
        "\n",
        "        # show grid on minor ticks\n",
        "        self.ax.grid(which='minor', linestyle='-', color='black')\n",
        "\n",
        "        # set bounds\n",
        "        self.ax.set_xbound(-0.5, 9.5)\n",
        "        self.ax.set_ybound(-0.5, 9.5)\n",
        "        \n",
        "        # initialize counter\n",
        "        self.bulb_count = np.sum(self.board)\n",
        "    \n",
        "    # method from stackoverflow\n",
        "    def fast_random_bool(self, shape):\n",
        "        n = np.prod(shape)\n",
        "        nb = -(-n // 8)  # ceiling division\n",
        "        b = np.frombuffer(np.random.bytes(nb), np.uint8, nb)\n",
        "        return np.unpackbits(b)[:n].reshape(shape).view(np.bool)\n",
        "\n",
        "    # triggers a single bulb\n",
        "    def trigger_bulb(self, x, y):\n",
        "        self.board[y, x] = not self.board[y, x]\n",
        "\n",
        "    # makes a single move which triggers multiple bulbs\n",
        "    def play(self, x, y):\n",
        "        self.trigger_bulb(x, y)\n",
        "        for loc in self.neighbours(x, y):\n",
        "            self.trigger_bulb(loc[0], loc[1])\n",
        "        self.bulb_count = np.sum(self.board)\n",
        "\n",
        "    # takes an array of moves and plays them\n",
        "    def play_multiple(self, array):\n",
        "        for move in array:\n",
        "            self.play(move[0], move[1])\n",
        "\n",
        "    # restarts game\n",
        "    def restart(self):\n",
        "        self.board = self.fast_random_bool([self.nrows, self.ncols])\n",
        "        self.bulb_count = np.sum(self.board)\n",
        "\n",
        "    def set_state(self, matrix):\n",
        "        self.board = np.flip(matrix, 0)\n",
        "        self.bulb_count = np.sum(self.board)\n",
        "        \n",
        "    def get_state(self):\n",
        "        return self.board\n",
        "        \n",
        "    # returns array of neighbouring locations of passed location (diagonal direction doesn't count)\n",
        "    def neighbours(self, x, y):\n",
        "        result = []\n",
        "\n",
        "        if self.in_range(x, y - 1):\n",
        "            result.append((x, y - 1))\n",
        "\n",
        "        if self.in_range(x, y + 1):\n",
        "            result.append((x, y + 1))\n",
        "\n",
        "        if self.in_range(x - 1, y):\n",
        "            result.append((x - 1, y))\n",
        "\n",
        "        if self.in_range(x + 1, y):\n",
        "            result.append((x + 1, y))\n",
        "\n",
        "        return result\n",
        "    \n",
        "    # returns True if passed location is within bounds\n",
        "    def in_range(self, x, y):\n",
        "        if y >= 0 and y < self.nrows and x >= 0 and x < self.ncols:\n",
        "            return True\n",
        "        return False\n",
        "        \n",
        "    # returns True if all bulbs are on\n",
        "    def is_game_over(self):\n",
        "        if self.bulb_count == self.nrows * self.ncols:\n",
        "            return True\n",
        "        return False\n",
        "    \n",
        "    # returns number of bulbs currently on\n",
        "    def get_bulb_count(self):\n",
        "        return self.bulb_count\n",
        "    \n",
        "    # returns matplotlib figure\n",
        "    def get_figure(self, figsize=None):\n",
        "        self.update()\n",
        "        if figsize is not None:\n",
        "            self.fig.set_size_inches(figsize, figsize)\n",
        "        return self.fig\n",
        "    \n",
        "    # returns matplotlib axes\n",
        "    def get_axes(self):\n",
        "        self.update()\n",
        "        return self.ax\n",
        "    \n",
        "    # applies changes made to board\n",
        "    def update(self):\n",
        "        self.ax.imshow(self.board, origin='lower', vmin=0, vmax=1)\n",
        "\n",
        "    # make a queue and do bfs for solution (this guarantees the least amount of moves but takes a long time)\n",
        "    def solve_bfs(self):\n",
        "        # method number 1\n",
        "        q = queue.Queue()\n",
        "\n",
        "        visited = set()\n",
        "        visited.add(tuple(board.get_state().flat))\n",
        "        for i in range(self.nrows):\n",
        "            for j in range(self.ncols):\n",
        "                # put the first elements in queue\n",
        "                q.put([(i, j)])\n",
        "\n",
        "        while True:\n",
        "            # make a recorded set of moves\n",
        "            moves = q.get()\n",
        "            if q.empty():\n",
        "                # print(\"answer not found\")\n",
        "                return None\n",
        "            board.play_multiple(moves)\n",
        "            # check for win\n",
        "            if board.is_game_over():\n",
        "                board.play_multiple(moves)\n",
        "                # print(\"answer: \", moves)\n",
        "                return moves\n",
        "            # enqueue a new set of moves if this state hasn't been visited yet\n",
        "            if tuple(board.get_state().flat) not in visited:\n",
        "                for i in range(self.nrows):\n",
        "                    for j in range(self.ncols):\n",
        "                        q.put(moves + [(i, j)])\n",
        "            # add the current move to the visited set\n",
        "            visited.add(tuple(board.get_state().flat))\n",
        "            # revert play\n",
        "            board.play_multiple(moves)\n",
        "\n",
        "        #def solve_elim(self):"
      ],
      "execution_count": 391,
      "outputs": []
    },
    {
      "cell_type": "code",
      "metadata": {
        "id": "kqXYgla7tsAC"
      },
      "source": [
        "%%capture\n",
        "board = Gameboard(2)"
      ],
      "execution_count": 392,
      "outputs": []
    },
    {
      "cell_type": "code",
      "metadata": {
        "colab": {
          "base_uri": "https://localhost:8080/",
          "height": 265
        },
        "id": "lLSCdSFNBV77",
        "outputId": "32dbde6b-8222-4be3-8a58-1ee2f1e125c2"
      },
      "source": [
        "board.get_figure()"
      ],
      "execution_count": 393,
      "outputs": [
        {
          "output_type": "execute_result",
          "data": {
            "image/png": "[encoded data removed]",
            "text/plain": [
              "<Figure size 432x288 with 1 Axes>"
            ]
          },
          "metadata": {
            "tags": []
          },
          "execution_count": 393
        }
      ]
    },
    {
      "cell_type": "code",
      "metadata": {
        "colab": {
          "base_uri": "https://localhost:8080/",
          "height": 265
        },
        "id": "HgUS-p-r7rKA",
        "outputId": "cbb47ab7-25a3-4fe3-851f-a1a723e5223c"
      },
      "source": [
        "answer = board.solve_bfs()\n",
        "board.play_multiple(answer)\n",
        "board.get_figure()"
      ],
      "execution_count": 394,
      "outputs": [
        {
          "output_type": "execute_result",
          "data": {
            "image/png": "[encoded data removed]",
            "text/plain": [
              "<Figure size 432x288 with 1 Axes>"
            ]
          },
          "metadata": {
            "tags": []
          },
          "execution_count": 394
        }
      ]
    },
    {
      "cell_type": "code",
      "metadata": {
        "id": "B6WJrpLqvk2h"
      },
      "source": [
        "# plots the lengths of the moves from the array of moves\n",
        "def plot_length_dist(moves):\n",
        "  lengths = []\n",
        "  for move in moves:\n",
        "      if move is None:\n",
        "          lengths.append(0)\n",
        "      else:\n",
        "          lengths.append(len(move))\n",
        "  plt.hist(lengths, np.arange(-0.5, np.max(lengths) + 2, 1), edgecolor='black')\n",
        "  plt.show()"
      ],
      "execution_count": 395,
      "outputs": []
    },
    {
      "cell_type": "code",
      "metadata": {
        "colab": {
          "base_uri": "https://localhost:8080/",
          "height": 265
        },
        "id": "Y-Miq9OG9lcF",
        "outputId": "86c37135-29f1-49d5-f225-7b8904ad06ac"
      },
      "source": [
        "moves = []\n",
        "for _ in range(100):\n",
        "    board.restart()\n",
        "    moves.append(board.solve_bfs())\n",
        "plot_length_dist(moves)"
      ],
      "execution_count": 396,
      "outputs": [
        {
          "output_type": "display_data",
          "data": {
            "image/png": "[encoded data removed]",
            "text/plain": [
              "<Figure size 432x288 with 1 Axes>"
            ]
          },
          "metadata": {
            "tags": [],
            "needs_background": "light"
          }
        }
      ]
    },
    {
      "cell_type": "code",
      "metadata": {
        "id": "srceY6Fp1DW7"
      },
      "source": [
        "# board.set_state(np.array([[False, True, False],\n",
        "#                           [True, False, True],\n",
        "#                           [False, False, False]]))"
      ],
      "execution_count": 397,
      "outputs": []
    },
    {
      "cell_type": "code",
      "metadata": {
        "id": "FTXV6OpRtron"
      },
      "source": [
        "# for 2x2 matrix the equation is:\n",
        "# b1 + x1 + x2 + x3 = 1\n",
        "# b2 + x1 + x2 + x4 = 1\n",
        "# b3 + x1 + x3 + x4 = 1\n",
        "# b4 + x2 + x3 + x4 = 1\n",
        "# [1 1 1 0]\n",
        "# [1 1 0 1]\n",
        "# [1 0 1 1]\n",
        "# [0 1 1 1]\n",
        "# *\n",
        "# [x1 x2 x3 x4]\n",
        "# =\n",
        "# [1-b1 1-b2 1-b3 1-b4]"
      ],
      "execution_count": 398,
      "outputs": []
    },
    {
      "cell_type": "code",
      "metadata": {
        "id": "WmpIwKc8iHax"
      },
      "source": [
        "def get_moves_matrix(shape):\n",
        "    mat = np.zeros((shape[0]**2, shape[1]**2))\n",
        "    for i in range(shape[0]):\n",
        "        for j in range(shape[1]):\n",
        "            for n in board.neighbours(i, j) + [(i, j)]:\n",
        "                mat[i * shape[0] + j, n[0] * shape[0] + n[1]] += 1\n",
        "    return mat\n",
        "\n",
        "def get_diff_matrix(shape):\n",
        "    mat = np.ones(np.prod(shape))\n",
        "    for i in range(shape[0]):\n",
        "        for j in range(shape[1]):\n",
        "            mat[i * shape[0] + j] -= board.get_state()[i, j]\n",
        "    return mat\n",
        "\n",
        "def get_linalg_moves(x):\n",
        "    moves = []\n",
        "    for i in range(len(x)):\n",
        "        if x[i] == 1:\n",
        "            moves.append((i % int(np.sqrt(len(x))), i // int(np.sqrt(len(x)))))\n",
        "    return moves"
      ],
      "execution_count": 399,
      "outputs": []
    },
    {
      "cell_type": "code",
      "metadata": {
        "id": "79nbIGqNit9I"
      },
      "source": [
        "%%capture\n",
        "board = Gameboard(3)"
      ],
      "execution_count": 400,
      "outputs": []
    },
    {
      "cell_type": "code",
      "metadata": {
        "colab": {
          "base_uri": "https://localhost:8080/",
          "height": 265
        },
        "id": "9pJFN0Bva4W6",
        "outputId": "8d6fb6c3-cf9c-45b5-c805-16987d3885f5"
      },
      "source": [
        "board.get_figure()"
      ],
      "execution_count": 401,
      "outputs": [
        {
          "output_type": "execute_result",
          "data": {
            "image/png": "[encoded data removed]",
            "text/plain": [
              "<Figure size 432x288 with 1 Axes>"
            ]
          },
          "metadata": {
            "tags": []
          },
          "execution_count": 401
        }
      ]
    },
    {
      "cell_type": "code",
      "metadata": {
        "colab": {
          "base_uri": "https://localhost:8080/"
        },
        "id": "7T_dUa9I3Cqb",
        "outputId": "a3e0734c-e207-49e8-aa96-1ad8eac18668"
      },
      "source": [
        "board.restart()\n",
        "a = get_moves_matrix((3, 3))\n",
        "b = get_diff_matrix((3, 3))\n",
        "x = np.rint(np.linalg.solve(a, b) * np.linalg.det(a)).astype('int') % 2\n",
        "get_linalg_moves(x)"
      ],
      "execution_count": 402,
      "outputs": [
        {
          "output_type": "execute_result",
          "data": {
            "text/plain": [
              "[(0, 1), (0, 2), (1, 2), (2, 2)]"
            ]
          },
          "metadata": {
            "tags": []
          },
          "execution_count": 402
        }
      ]
    },
    {
      "cell_type": "code",
      "metadata": {
        "colab": {
          "base_uri": "https://localhost:8080/",
          "height": 265
        },
        "id": "8hSDi7YGphfH",
        "outputId": "dba086e0-46c6-4771-f94b-1a2848f1cc70"
      },
      "source": [
        "board.play_multiple(get_linalg_moves(x))\n",
        "board.get_figure()"
      ],
      "execution_count": 403,
      "outputs": [
        {
          "output_type": "execute_result",
          "data": {
            "image/png": "[encoded data removed]",
            "text/plain": [
              "<Figure size 432x288 with 1 Axes>"
            ]
          },
          "metadata": {
            "tags": []
          },
          "execution_count": 403
        }
      ]
    },
    {
      "cell_type": "code",
      "metadata": {
        "id": "9XD8vlbquLVX"
      },
      "source": [
        "def rref(A, B=None):\n",
        "    i, piv = 0, 0\n",
        "    while i + piv < len(A):\n",
        "        if A[i, i + piv] == 1:\n",
        "            for k in range(len(A)):\n",
        "                if k == i:\n",
        "                    continue\n",
        "                if A[k, i + piv] == 1:\n",
        "                    A[k, :] += A[i, :]\n",
        "                    A[k, :] %= 2\n",
        "                    if B is not None:\n",
        "                        B[k] = (B[k] + B[i]) % 2\n",
        "        else:\n",
        "            row_changed = False\n",
        "            for k in range(len(A) - i - 1):\n",
        "                if A[i + k + 1, i + piv] == 1:\n",
        "                    temp = A[i, :].copy()\n",
        "                    A[i, :] = A[i + k + 1, :]\n",
        "                    A[i + k + 1, :] = temp\n",
        "                    if B is not None:\n",
        "                        temp = B[i]\n",
        "                        B[i] = B[i + k + 1]\n",
        "                        B[i + k + 1] = temp\n",
        "                    row_changed = True\n",
        "                    break\n",
        "            if not row_changed:\n",
        "                piv += 1\n",
        "            i -= 1\n",
        "        i += 1"
      ],
      "execution_count": 404,
      "outputs": []
    },
    {
      "cell_type": "code",
      "metadata": {
        "id": "fLM9D_U_Vq4k"
      },
      "source": [
        "# A, B must be in rref, must be used only when unique solution exists\n",
        "def exact(A, B):\n",
        "    result = [0] * len(A)\n",
        "    for row_index in range(len(A)):\n",
        "        one_index = np.where(A[row_index] == 1)[0][0]\n",
        "        result[one_index] = B[row_index]\n",
        "    return result"
      ],
      "execution_count": 405,
      "outputs": []
    },
    {
      "cell_type": "code",
      "metadata": {
        "id": "0_-cMcA8ys-W"
      },
      "source": [
        "def null_space(A):\n",
        "    results = []\n",
        "    i, piv, col = 0, 0, 0\n",
        "    to_fix = []\n",
        "    while col < len(A):\n",
        "        if A[i, i + piv] == 1:\n",
        "            i += 1\n",
        "        else:\n",
        "            to_fix.append(col)\n",
        "            piv += 1\n",
        "        col += 1\n",
        "    no_fix = np.delete(np.arange(0, len(A), 1), to_fix)\n",
        "    for col_num in range(len(to_fix)):\n",
        "        result = np.array([0] * len(A))\n",
        "        fixed = to_fix[col_num]\n",
        "        result[fixed] = 1\n",
        "        for i in range(len(A)):\n",
        "            if A[i, fixed] == 1:\n",
        "                result[no_fix[i]] = (result[no_fix[i]] + 1) % 2\n",
        "        results.append(result)\n",
        "    return results"
      ],
      "execution_count": 406,
      "outputs": []
    },
    {
      "cell_type": "code",
      "metadata": {
        "id": "X09A1TLtFLMJ"
      },
      "source": [
        "def particular(A, B):\n",
        "    i, piv, col = 0, 0, 0\n",
        "    to_fix = []\n",
        "    while col < len(A):\n",
        "        if A[i, i + piv] == 1:\n",
        "            i += 1\n",
        "        else:\n",
        "            to_fix.append(col)\n",
        "            piv += 1\n",
        "        col += 1\n",
        "    no_fix = np.delete(np.arange(0, len(A), 1), to_fix)\n",
        "    \n",
        "    if 1 in B[-len(to_fix):]:\n",
        "        print('no solution, sorry')\n",
        "        return None\n",
        "\n",
        "    result = [0] * len(A)\n",
        "    for i in range(len(no_fix)):\n",
        "        result[no_fix[i]] = B[i]\n",
        "    fixed = to_fix[0]\n",
        "    result[fixed] = 1\n",
        "    for i in range(len(A)):\n",
        "        if A[i, fixed] == 1:\n",
        "            result[no_fix[i]] = (result[no_fix[i]] + 1) % 2\n",
        "    return result"
      ],
      "execution_count": 407,
      "outputs": []
    },
    {
      "cell_type": "code",
      "metadata": {
        "id": "0TpZPywUFgN6"
      },
      "source": [
        "def powerset(seq):\n",
        "    if len(seq) <= 1:\n",
        "        yield seq\n",
        "        yield []\n",
        "    else:\n",
        "        for item in powerset(seq[1:]):\n",
        "            yield [seq[0]]+item\n",
        "            yield item"
      ],
      "execution_count": 408,
      "outputs": []
    },
    {
      "cell_type": "code",
      "metadata": {
        "id": "R-AsCWcYCmlv"
      },
      "source": [
        "# can solve for any board size, returns array of moves\n",
        "def solve_linalg(A, B):\n",
        "    rref(A, B)\n",
        "    null = null_space(A)\n",
        "    if null == []:\n",
        "        return [get_linalg_moves(exact(A, B))]\n",
        "    x = particular(A, B)\n",
        "    if x is None:\n",
        "        return None\n",
        "    else:\n",
        "        sols = [(sum(s) + x) % 2 for s in powerset(null) if s != []]\n",
        "        sols += [x]\n",
        "    return [get_linalg_moves(sol) for sol in sols]"
      ],
      "execution_count": 409,
      "outputs": []
    },
    {
      "cell_type": "code",
      "metadata": {
        "id": "iPfqxT0yaSn3"
      },
      "source": [
        "%%capture\n",
        "board = Gameboard(40)"
      ],
      "execution_count": 410,
      "outputs": []
    },
    {
      "cell_type": "code",
      "metadata": {
        "colab": {
          "base_uri": "https://localhost:8080/"
        },
        "id": "edEZSsZAXUN3",
        "outputId": "2528fba5-a0d2-4b32-bdec-8d314bc97eb5"
      },
      "source": [
        "%%time\n",
        "A = get_moves_matrix((40, 40))\n",
        "B = get_diff_matrix((40, 40))\n",
        "sol = solve_linalg(A, B)"
      ],
      "execution_count": 411,
      "outputs": [
        {
          "output_type": "stream",
          "text": [
            "CPU times: user 36.2 s, sys: 15.9 ms, total: 36.2 s\n",
            "Wall time: 36.2 s\n"
          ],
          "name": "stdout"
        }
      ]
    },
    {
      "cell_type": "code",
      "metadata": {
        "colab": {
          "base_uri": "https://localhost:8080/",
          "height": 592
        },
        "id": "OW8SD8dqIn6_",
        "outputId": "7aa7397d-a534-4dc3-8cfd-12b223f37e0a"
      },
      "source": [
        "board.get_figure(10)"
      ],
      "execution_count": 412,
      "outputs": [
        {
          "output_type": "execute_result",
          "data": {
            "image/png": "[encoded data removed]",
            "text/plain": [
              "<Figure size 720x720 with 1 Axes>"
            ]
          },
          "metadata": {
            "tags": []
          },
          "execution_count": 412
        }
      ]
    },
    {
      "cell_type": "code",
      "metadata": {
        "colab": {
          "base_uri": "https://localhost:8080/",
          "height": 629
        },
        "id": "-KelFHwtLS5s",
        "outputId": "9204a0e0-8eb9-428e-c08d-a2e4a64db540"
      },
      "source": [
        "for s in sol:\n",
        "    board.play_multiple(s)\n",
        "    print(s)\n",
        "board.get_figure()"
      ],
      "execution_count": 413,
      "outputs": [
        {
          "output_type": "stream",
          "text": [
            "[(0, 0), (2, 0), (3, 0), (4, 0), (6, 0), (7, 0), (8, 0), (10, 0), (21, 0), (22, 0), (26, 0), (27, 0), (28, 0), (29, 0), (30, 0), (31, 0), (32, 0), (33, 0), (34, 0), (35, 0), (36, 0), (38, 0), (0, 1), (2, 1), (4, 1), (6, 1), (7, 1), (9, 1), (12, 1), (13, 1), (14, 1), (15, 1), (16, 1), (18, 1), (19, 1), (24, 1), (27, 1), (30, 1), (31, 1), (32, 1), (33, 1), (34, 1), (35, 1), (36, 1), (38, 1), (39, 1), (0, 2), (2, 2), (4, 2), (8, 2), (11, 2), (13, 2), (14, 2), (15, 2), (19, 2), (20, 2), (25, 2), (28, 2), (29, 2), (30, 2), (31, 2), (32, 2), (33, 2), (34, 2), (37, 2), (38, 2), (2, 3), (3, 3), (4, 3), (6, 3), (8, 3), (9, 3), (10, 3), (11, 3), (12, 3), (13, 3), (16, 3), (18, 3), (20, 3), (21, 3), (23, 3), (24, 3), (26, 3), (28, 3), (29, 3), (30, 3), (32, 3), (35, 3), (36, 3), (37, 3), (38, 3), (0, 4), (5, 4), (6, 4), (10, 4), (12, 4), (13, 4), (15, 4), (20, 4), (21, 4), (23, 4), (24, 4), (27, 4), (28, 4), (29, 4), (30, 4), (32, 4), (34, 4), (38, 4), (39, 4), (2, 5), (3, 5), (4, 5), (8, 5), (12, 5), (14, 5), (15, 5), (16, 5), (18, 5), (22, 5), (23, 5), (24, 5), (27, 5), (28, 5), (31, 5), (32, 5), (33, 5), (35, 5), (36, 5), (37, 5), (38, 5), (0, 6), (1, 6), (2, 6), (3, 6), (4, 6), (6, 6), (7, 6), (8, 6), (9, 6), (10, 6), (12, 6), (14, 6), (15, 6), (17, 6), (23, 6), (24, 6), (26, 6), (27, 6), (31, 6), (33, 6), (34, 6), (0, 7), (1, 7), (7, 7), (8, 7), (9, 7), (10, 7), (13, 7), (16, 7), (17, 7), (20, 7), (21, 7), (22, 7), (23, 7), (24, 7), (25, 7), (27, 7), (30, 7), (33, 7), (35, 7), (36, 7), (0, 8), (1, 8), (8, 8), (9, 8), (11, 8), (13, 8), (14, 8), (15, 8), (17, 8), (18, 8), (19, 8), (20, 8), (21, 8), (22, 8), (23, 8), (24, 8), (25, 8), (27, 8), (28, 8), (33, 8), (39, 8), (1, 9), (3, 9), (4, 9), (5, 9), (6, 9), (11, 9), (12, 9), (13, 9), (16, 9), (17, 9), (18, 9), (20, 9), (21, 9), (24, 9), (25, 9), (26, 9), (27, 9), (29, 9), (33, 9), (37, 9), (0, 10), (1, 10), (2, 10), (3, 10), (5, 10), (6, 10), (7, 10), (11, 10), (14, 10), (16, 10), (20, 10), (21, 10), (23, 10), (24, 10), (27, 10), (29, 10), (33, 10), (35, 10), (38, 10), (0, 11), (1, 11), (2, 11), (5, 11), (9, 11), (11, 11), (13, 11), (14, 11), (19, 11), (20, 11), (23, 11), (25, 11), (28, 11), (29, 11), (31, 11), (32, 11), (33, 11), (34, 11), (35, 11), (36, 11), (37, 11), (38, 11), (39, 11), (0, 12), (1, 12), (3, 12), (5, 12), (6, 12), (7, 12), (8, 12), (10, 12), (11, 12), (13, 12), (15, 12), (16, 12), (18, 12), (20, 12), (21, 12), (27, 12), (29, 12), (30, 12), (35, 12), (36, 12), (39, 12), (0, 13), (1, 13), (2, 13), (3, 13), (6, 13), (7, 13), (8, 13), (9, 13), (11, 13), (12, 13), (14, 13), (15, 13), (19, 13), (21, 13), (24, 13), (27, 13), (29, 13), (30, 13), (34, 13), (35, 13), (36, 13), (38, 13), (39, 13), (0, 14), (1, 14), (2, 14), (3, 14), (4, 14), (6, 14), (7, 14), (8, 14), (9, 14), (13, 14), (14, 14), (16, 14), (17, 14), (18, 14), (19, 14), (23, 14), (25, 14), (26, 14), (28, 14), (29, 14), (30, 14), (31, 14), (38, 14), (39, 14), (1, 15), (6, 15), (8, 15), (9, 15), (11, 15), (12, 15), (16, 15), (20, 15), (21, 15), (22, 15), (23, 15), (24, 15), (26, 15), (27, 15), (31, 15), (32, 15), (33, 15), (35, 15), (38, 15), (39, 15), (0, 16), (2, 16), (3, 16), (4, 16), (6, 16), (7, 16), (8, 16), (9, 16), (10, 16), (11, 16), (14, 16), (15, 16), (16, 16), (21, 16), (22, 16), (24, 16), (25, 16), (26, 16), (28, 16), (31, 16), (35, 16), (37, 16), (39, 16), (2, 17), (4, 17), (5, 17), (7, 17), (13, 17), (14, 17), (15, 17), (16, 17), (20, 17), (22, 17), (27, 17), (28, 17), (31, 17), (33, 17), (37, 17), (38, 17), (39, 17), (0, 18), (3, 18), (4, 18), (7, 18), (8, 18), (10, 18), (11, 18), (12, 18), (13, 18), (14, 18), (16, 18), (18, 18), (19, 18), (21, 18), (27, 18), (28, 18), (29, 18), (33, 18), (34, 18), (35, 18), (36, 18), (37, 18), (39, 18), (0, 19), (1, 19), (2, 19), (4, 19), (5, 19), (7, 19), (11, 19), (12, 19), (14, 19), (15, 19), (16, 19), (17, 19), (18, 19), (20, 19), (21, 19), (22, 19), (24, 19), (26, 19), (28, 19), (30, 19), (34, 19), (36, 19), (0, 20), (2, 20), (4, 20), (5, 20), (13, 20), (15, 20), (19, 20), (21, 20), (22, 20), (25, 20), (26, 20), (29, 20), (31, 20), (32, 20), (34, 20), (39, 20), (0, 21), (1, 21), (2, 21), (3, 21), (5, 21), (7, 21), (10, 21), (12, 21), (13, 21), (15, 21), (16, 21), (17, 21), (19, 21), (23, 21), (26, 21), (27, 21), (30, 21), (31, 21), (34, 21), (35, 21), (37, 21), (39, 21), (0, 22), (1, 22), (4, 22), (9, 22), (10, 22), (12, 22), (15, 22), (16, 22), (17, 22), (18, 22), (19, 22), (20, 22), (21, 22), (22, 22), (23, 22), (24, 22), (25, 22), (26, 22), (28, 22), (30, 22), (31, 22), (32, 22), (36, 22), (37, 22), (1, 23), (3, 23), (5, 23), (10, 23), (11, 23), (12, 23), (14, 23), (15, 23), (17, 23), (22, 23), (23, 23), (25, 23), (26, 23), (27, 23), (32, 23), (33, 23), (38, 23), (39, 23), (4, 24), (6, 24), (8, 24), (11, 24), (14, 24), (15, 24), (17, 24), (18, 24), (19, 24), (20, 24), (28, 24), (30, 24), (32, 24), (33, 24), (34, 24), (35, 24), (36, 24), (39, 24), (1, 25), (3, 25), (6, 25), (8, 25), (9, 25), (12, 25), (14, 25), (16, 25), (20, 25), (23, 25), (31, 25), (32, 25), (34, 25), (35, 25), (36, 25), (38, 25), (39, 25), (0, 26), (1, 26), (3, 26), (7, 26), (9, 26), (11, 26), (14, 26), (15, 26), (16, 26), (18, 26), (19, 26), (22, 26), (23, 26), (24, 26), (27, 26), (28, 26), (29, 26), (30, 26), (31, 26), (32, 26), (33, 26), (36, 26), (37, 26), (38, 26), (0, 27), (1, 27), (2, 27), (3, 27), (4, 27), (6, 27), (9, 27), (10, 27), (13, 27), (14, 27), (17, 27), (19, 27), (21, 27), (22, 27), (27, 27), (28, 27), (29, 27), (30, 27), (31, 27), (32, 27), (34, 27), (35, 27), (37, 27), (39, 27), (1, 28), (2, 28), (3, 28), (5, 28), (6, 28), (9, 28), (10, 28), (12, 28), (13, 28), (14, 28), (15, 28), (16, 28), (17, 28), (19, 28), (20, 28), (21, 28), (22, 28), (24, 28), (25, 28), (26, 28), (28, 28), (30, 28), (31, 28), (33, 28), (34, 28), (38, 28), (0, 29), (2, 29), (3, 29), (4, 29), (5, 29), (8, 29), (9, 29), (11, 29), (13, 29), (14, 29), (17, 29), (19, 29), (21, 29), (25, 29), (27, 29), (30, 29), (31, 29), (33, 29), (35, 29), (1, 30), (2, 30), (4, 30), (5, 30), (8, 30), (9, 30), (11, 30), (12, 30), (13, 30), (15, 30), (16, 30), (18, 30), (23, 30), (24, 30), (27, 30), (29, 30), (30, 30), (32, 30), (33, 30), (37, 30), (38, 30), (39, 30), (0, 31), (1, 31), (2, 31), (3, 31), (7, 31), (13, 31), (19, 31), (20, 31), (22, 31), (23, 31), (25, 31), (26, 31), (28, 31), (30, 31), (31, 31), (33, 31), (34, 31), (37, 31), (1, 32), (2, 32), (5, 32), (6, 32), (7, 32), (9, 32), (10, 32), (12, 32), (13, 32), (14, 32), (16, 32), (17, 32), (18, 32), (19, 32), (20, 32), (24, 32), (25, 32), (27, 32), (29, 32), (30, 32), (31, 32), (37, 32), (38, 32), (0, 33), (1, 33), (4, 33), (7, 33), (8, 33), (10, 33), (12, 33), (13, 33), (15, 33), (20, 33), (21, 33), (23, 33), (24, 33), (25, 33), (26, 33), (28, 33), (29, 33), (32, 33), (33, 33), (38, 33), (1, 34), (2, 34), (3, 34), (4, 34), (5, 34), (6, 34), (7, 34), (8, 34), (9, 34), (11, 34), (18, 34), (20, 34), (21, 34), (22, 34), (24, 34), (25, 34), (27, 34), (29, 34), (30, 34), (33, 34), (35, 34), (38, 34), (3, 35), (6, 35), (8, 35), (9, 35), (10, 35), (14, 35), (15, 35), (18, 35), (19, 35), (25, 35), (29, 35), (31, 35), (35, 35), (37, 35), (1, 36), (2, 36), (3, 36), (8, 36), (13, 36), (14, 36), (16, 36), (17, 36), (21, 36), (22, 36), (23, 36), (25, 36), (29, 36), (30, 36), (31, 36), (32, 36), (33, 36), (35, 36), (36, 36), (37, 36), (38, 36), (0, 37), (5, 37), (7, 37), (8, 37), (12, 37), (17, 37), (18, 37), (20, 37), (21, 37), (22, 37), (28, 37), (29, 37), (30, 37), (33, 37), (34, 37), (36, 37), (38, 37), (0, 38), (1, 38), (2, 38), (3, 38), (4, 38), (5, 38), (6, 38), (8, 38), (9, 38), (12, 38), (17, 38), (18, 38), (22, 38), (24, 38), (25, 38), (26, 38), (27, 38), (29, 38), (30, 38), (32, 38), (35, 38), (37, 38), (38, 38), (0, 39), (2, 39), (4, 39), (5, 39), (7, 39), (9, 39), (10, 39), (14, 39), (15, 39), (16, 39), (17, 39), (20, 39), (22, 39), (23, 39), (27, 39), (28, 39), (30, 39), (32, 39), (36, 39)]\n"
          ],
          "name": "stdout"
        },
        {
          "output_type": "execute_result",
          "data": {
            "image/png": "[encoded data removed]",
            "text/plain": [
              "<Figure size 720x720 with 1 Axes>"
            ]
          },
          "metadata": {
            "tags": []
          },
          "execution_count": 413
        }
      ]
    }
  ]
}